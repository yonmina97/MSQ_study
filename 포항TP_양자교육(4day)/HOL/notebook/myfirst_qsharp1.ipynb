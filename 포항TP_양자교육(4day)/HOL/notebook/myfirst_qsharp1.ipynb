{
 "cells": [
  {
   "cell_type": "markdown",
   "id": "c1b00585",
   "metadata": {},
   "source": [
    "## Q# 실행"
   ]
  },
  {
   "cell_type": "code",
   "execution_count": 17,
   "id": "b52488e6",
   "metadata": {},
   "outputs": [
    {
     "data": {
      "application/x-qsharp-data": "[\"SampleQuantumRandomNumberGenerator\"]",
      "text/html": [
       "<ul><li>SampleQuantumRandomNumberGenerator</li></ul>"
      ],
      "text/plain": [
       "SampleQuantumRandomNumberGenerator"
      ]
     },
     "execution_count": 17,
     "metadata": {},
     "output_type": "execute_result"
    }
   ],
   "source": [
    "operation SampleQuantumRandomNumberGenerator() : Result {\n",
    "    use q = Qubit(); //Allocate a qubit in the |0> shots\n",
    "    H(q);           // Put the qubit to superposition\n",
    "    let r = M(q);\n",
    "    Reset(q);\n",
    "    return r;\n",
    "}"
   ]
  },
  {
   "cell_type": "markdown",
   "id": "6b4338ba",
   "metadata": {},
   "source": [
    "## %simulate 매직명령"
   ]
  },
  {
   "cell_type": "code",
   "execution_count": 18,
   "id": "ce63720e",
   "metadata": {},
   "outputs": [
    {
     "data": {
      "application/x-qsharp-data": "0",
      "text/plain": [
       "Zero"
      ]
     },
     "execution_count": 18,
     "metadata": {},
     "output_type": "execute_result"
    }
   ],
   "source": [
    "%simulate SampleQuantumRandomNumberGenerator"
   ]
  }
 ],
 "metadata": {
  "kernelspec": {
   "display_name": "Q#",
   "language": "qsharp",
   "name": "iqsharp"
  },
  "language_info": {
   "file_extension": ".qs",
   "mimetype": "text/x-qsharp",
   "name": "qsharp",
   "version": "0.24"
  }
 },
 "nbformat": 4,
 "nbformat_minor": 5
}
