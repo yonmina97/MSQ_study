{
 "cells": [
  {
   "cell_type": "markdown",
   "id": "3f598d36",
   "metadata": {},
   "source": [
    "## Python에서 Q#수행"
   ]
  },
  {
   "cell_type": "code",
   "execution_count": 1,
   "id": "98e69bb6",
   "metadata": {},
   "outputs": [],
   "source": [
    "import qsharp"
   ]
  },
  {
   "cell_type": "markdown",
   "id": "bf562940",
   "metadata": {},
   "source": [
    "## %%qsharp 매직명령"
   ]
  },
  {
   "cell_type": "code",
   "execution_count": 2,
   "id": "2a84cef3",
   "metadata": {},
   "outputs": [],
   "source": [
    "%%qsharp\n",
    "\n",
    "open Microsoft.Quantum.Intrinsic;\n",
    "\n",
    "operation SayHello(name : String) : Unit {\n",
    " Message($\"Hello, {name}!\");\n",
    "}"
   ]
  },
  {
   "cell_type": "code",
   "execution_count": 3,
   "id": "2d501661",
   "metadata": {},
   "outputs": [
    {
     "name": "stdout",
     "output_type": "stream",
     "text": [
      "Hello, quantum world!\r\n",
      "()\n"
     ]
    }
   ],
   "source": [
    "##qsharp 호출\n",
    "print(SayHello.simulate(name=\"quantum world\"))"
   ]
  }
 ],
 "metadata": {
  "kernelspec": {
   "display_name": "Python 3 (ipykernel)",
   "language": "python",
   "name": "python3"
  },
  "language_info": {
   "codemirror_mode": {
    "name": "ipython",
    "version": 3
   },
   "file_extension": ".py",
   "mimetype": "text/x-python",
   "name": "python",
   "nbconvert_exporter": "python",
   "pygments_lexer": "ipython3",
   "version": "3.9.12"
  }
 },
 "nbformat": 4,
 "nbformat_minor": 5
}
